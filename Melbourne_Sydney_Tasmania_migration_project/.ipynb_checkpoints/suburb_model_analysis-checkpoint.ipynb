{
 "cells": [
  {
   "cell_type": "code",
   "execution_count": 18,
   "metadata": {},
   "outputs": [],
   "source": [
    "import os\n",
    "import matplotlib.pylab as plt\n",
    "import numpy as np\n",
    "import pandas as pd\n",
    "from sklearn import preprocessing"
   ]
  },
  {
   "cell_type": "markdown",
   "metadata": {},
   "source": [
    "# Suburb Cluster Analysis"
   ]
  },
  {
   "cell_type": "markdown",
   "metadata": {},
   "source": [
    "Load files"
   ]
  },
  {
   "cell_type": "code",
   "execution_count": 65,
   "metadata": {},
   "outputs": [],
   "source": [
    "sydney_suburbs = pd.read_csv(os.path.join('sydney_suburbs.csv'), index_col=0)\n",
    "brisbane_suburbs = pd.read_csv(os.path.join('brisbane_suburbs.csv'), index_col=0)\n",
    "melbourne_suburbs = pd.read_csv(os.path.join('melbourne_suburbs.csv'), index_col=0)\n",
    "hobart_suburbs = pd.read_csv(os.path.join('hobart_suburbs.csv'), index_col=0)\n",
    "canberra_suburbs = pd.read_csv(os.path.join('canberra_suburbs.csv'), index_col=0)\n",
    "adelaide_suburbs = pd.read_csv(os.path.join('adelaide_suburbs.csv'), index_col=0)\n",
    "darwin_suburbs = pd.read_csv(os.path.join('darwin_suburbs.csv'), index_col=0)\n",
    "perth_suburbs = pd.read_csv(os.path.join('perth_suburbs.csv'), index_col=0)\n",
    "\n",
    "top_venues_grouped = pd.read_csv(os.path.join('top_venues_grouped.csv'), index_col=0)\n",
    "top_venues_sorted = pd.read_csv(os.path.join('top_venues_sorted.csv'), index_col=0)"
   ]
  },
  {
   "cell_type": "markdown",
   "metadata": {},
   "source": [
    "### Extract suburb information area, density, distance"
   ]
  },
  {
   "cell_type": "code",
   "execution_count": 77,
   "metadata": {},
   "outputs": [
    {
     "data": {
      "text/html": [
       "<div>\n",
       "<style scoped>\n",
       "    .dataframe tbody tr th:only-of-type {\n",
       "        vertical-align: middle;\n",
       "    }\n",
       "\n",
       "    .dataframe tbody tr th {\n",
       "        vertical-align: top;\n",
       "    }\n",
       "\n",
       "    .dataframe thead th {\n",
       "        text-align: right;\n",
       "    }\n",
       "</style>\n",
       "<table border=\"1\" class=\"dataframe\">\n",
       "  <thead>\n",
       "    <tr style=\"text-align: right;\">\n",
       "      <th></th>\n",
       "      <th>Suburb_id</th>\n",
       "      <th>Suburb</th>\n",
       "      <th>Postcode</th>\n",
       "      <th>area</th>\n",
       "      <th>density</th>\n",
       "      <th>distance</th>\n",
       "      <th>Accessories Store</th>\n",
       "      <th>Adult Boutique</th>\n",
       "      <th>Advertising Agency</th>\n",
       "      <th>Afghan Restaurant</th>\n",
       "      <th>...</th>\n",
       "      <th>Whisky Bar</th>\n",
       "      <th>Wine Bar</th>\n",
       "      <th>Wine Shop</th>\n",
       "      <th>Winery</th>\n",
       "      <th>Wings Joint</th>\n",
       "      <th>Women's Store</th>\n",
       "      <th>Xinjiang Restaurant</th>\n",
       "      <th>Yoga Studio</th>\n",
       "      <th>Zoo</th>\n",
       "      <th>Zoo Exhibit</th>\n",
       "    </tr>\n",
       "  </thead>\n",
       "  <tbody>\n",
       "    <tr>\n",
       "      <th>0</th>\n",
       "      <td>0</td>\n",
       "      <td>Abbotsbury</td>\n",
       "      <td>2176</td>\n",
       "      <td>4.833</td>\n",
       "      <td>879.991724</td>\n",
       "      <td>31.895053</td>\n",
       "      <td>0.0</td>\n",
       "      <td>0.0</td>\n",
       "      <td>0.0</td>\n",
       "      <td>0.0</td>\n",
       "      <td>...</td>\n",
       "      <td>0.0</td>\n",
       "      <td>0.0</td>\n",
       "      <td>0.000000</td>\n",
       "      <td>0.0</td>\n",
       "      <td>0.0</td>\n",
       "      <td>0.0</td>\n",
       "      <td>0.0</td>\n",
       "      <td>0.0</td>\n",
       "      <td>0.0</td>\n",
       "      <td>0.0</td>\n",
       "    </tr>\n",
       "    <tr>\n",
       "      <th>1</th>\n",
       "      <td>1</td>\n",
       "      <td>Abbotsford</td>\n",
       "      <td>2046</td>\n",
       "      <td>0.994</td>\n",
       "      <td>5405.432596</td>\n",
       "      <td>7.682393</td>\n",
       "      <td>0.0</td>\n",
       "      <td>0.0</td>\n",
       "      <td>0.0</td>\n",
       "      <td>0.0</td>\n",
       "      <td>...</td>\n",
       "      <td>0.0</td>\n",
       "      <td>0.0</td>\n",
       "      <td>0.142857</td>\n",
       "      <td>0.0</td>\n",
       "      <td>0.0</td>\n",
       "      <td>0.0</td>\n",
       "      <td>0.0</td>\n",
       "      <td>0.0</td>\n",
       "      <td>0.0</td>\n",
       "      <td>0.0</td>\n",
       "    </tr>\n",
       "    <tr>\n",
       "      <th>2</th>\n",
       "      <td>2</td>\n",
       "      <td>Acacia Gardens</td>\n",
       "      <td>2763</td>\n",
       "      <td>0.957</td>\n",
       "      <td>3968.652038</td>\n",
       "      <td>30.950468</td>\n",
       "      <td>0.0</td>\n",
       "      <td>0.0</td>\n",
       "      <td>0.0</td>\n",
       "      <td>0.0</td>\n",
       "      <td>...</td>\n",
       "      <td>0.0</td>\n",
       "      <td>0.0</td>\n",
       "      <td>0.000000</td>\n",
       "      <td>0.0</td>\n",
       "      <td>0.0</td>\n",
       "      <td>0.0</td>\n",
       "      <td>0.0</td>\n",
       "      <td>0.0</td>\n",
       "      <td>0.0</td>\n",
       "      <td>0.0</td>\n",
       "    </tr>\n",
       "    <tr>\n",
       "      <th>3</th>\n",
       "      <td>3</td>\n",
       "      <td>Agnes Banks</td>\n",
       "      <td>2753</td>\n",
       "      <td>15.723</td>\n",
       "      <td>57.940597</td>\n",
       "      <td>53.589220</td>\n",
       "      <td>0.0</td>\n",
       "      <td>0.0</td>\n",
       "      <td>0.0</td>\n",
       "      <td>0.0</td>\n",
       "      <td>...</td>\n",
       "      <td>0.0</td>\n",
       "      <td>0.0</td>\n",
       "      <td>0.000000</td>\n",
       "      <td>0.0</td>\n",
       "      <td>0.0</td>\n",
       "      <td>0.0</td>\n",
       "      <td>0.0</td>\n",
       "      <td>0.0</td>\n",
       "      <td>0.0</td>\n",
       "      <td>0.0</td>\n",
       "    </tr>\n",
       "    <tr>\n",
       "      <th>4</th>\n",
       "      <td>4</td>\n",
       "      <td>Airds</td>\n",
       "      <td>2560</td>\n",
       "      <td>2.353</td>\n",
       "      <td>1243.518912</td>\n",
       "      <td>42.977938</td>\n",
       "      <td>0.0</td>\n",
       "      <td>0.0</td>\n",
       "      <td>0.0</td>\n",
       "      <td>0.0</td>\n",
       "      <td>...</td>\n",
       "      <td>0.0</td>\n",
       "      <td>0.0</td>\n",
       "      <td>0.000000</td>\n",
       "      <td>0.0</td>\n",
       "      <td>0.0</td>\n",
       "      <td>0.0</td>\n",
       "      <td>0.0</td>\n",
       "      <td>0.0</td>\n",
       "      <td>0.0</td>\n",
       "      <td>0.0</td>\n",
       "    </tr>\n",
       "  </tbody>\n",
       "</table>\n",
       "<p>5 rows × 461 columns</p>\n",
       "</div>"
      ],
      "text/plain": [
       "   Suburb_id          Suburb Postcode    area      density   distance  \\\n",
       "0          0      Abbotsbury     2176   4.833   879.991724  31.895053   \n",
       "1          1      Abbotsford     2046   0.994  5405.432596   7.682393   \n",
       "2          2  Acacia Gardens     2763   0.957  3968.652038  30.950468   \n",
       "3          3     Agnes Banks     2753  15.723    57.940597  53.589220   \n",
       "4          4           Airds     2560   2.353  1243.518912  42.977938   \n",
       "\n",
       "   Accessories Store  Adult Boutique  Advertising Agency  Afghan Restaurant  \\\n",
       "0                0.0             0.0                 0.0                0.0   \n",
       "1                0.0             0.0                 0.0                0.0   \n",
       "2                0.0             0.0                 0.0                0.0   \n",
       "3                0.0             0.0                 0.0                0.0   \n",
       "4                0.0             0.0                 0.0                0.0   \n",
       "\n",
       "   ...  Whisky Bar  Wine Bar  Wine Shop  Winery  Wings Joint  Women's Store  \\\n",
       "0  ...         0.0       0.0   0.000000     0.0          0.0            0.0   \n",
       "1  ...         0.0       0.0   0.142857     0.0          0.0            0.0   \n",
       "2  ...         0.0       0.0   0.000000     0.0          0.0            0.0   \n",
       "3  ...         0.0       0.0   0.000000     0.0          0.0            0.0   \n",
       "4  ...         0.0       0.0   0.000000     0.0          0.0            0.0   \n",
       "\n",
       "   Xinjiang Restaurant  Yoga Studio  Zoo  Zoo Exhibit  \n",
       "0                  0.0          0.0  0.0          0.0  \n",
       "1                  0.0          0.0  0.0          0.0  \n",
       "2                  0.0          0.0  0.0          0.0  \n",
       "3                  0.0          0.0  0.0          0.0  \n",
       "4                  0.0          0.0  0.0          0.0  \n",
       "\n",
       "[5 rows x 461 columns]"
      ]
     },
     "execution_count": 77,
     "metadata": {},
     "output_type": "execute_result"
    }
   ],
   "source": [
    "suburbs_df = pd.concat([sydney_suburbs,\n",
    "                         brisbane_suburbs,\n",
    "                         melbourne_suburbs,\n",
    "                         hobart_suburbs,\n",
    "                         canberra_suburbs,\n",
    "                         adelaide_suburbs,\n",
    "                         darwin_suburbs,\n",
    "                         perth_suburbs])\n",
    "\n",
    "suburbs_df = suburbs_df[['Suburb', 'Postcode', 'area', 'density', 'distance']]\n",
    "\n",
    "# Merge suburb table with top venues\n",
    "suburbs_df = suburbs_df.merge(top_venues_grouped, how = 'inner', on = ['Suburb', 'Postcode'])\n",
    "\n",
    "# Add suburb_id column\n",
    "suburbs_df['Suburb_id'] = np.arange(0, suburbs_df.shape[0])\n",
    "\n",
    "# Move suburb_id column to the front\n",
    "cols = list(suburbs_df.columns)\n",
    "cols = [cols[-1]] + cols[:-1]\n",
    "suburbs_df = suburbs_df[cols]\n",
    "\n",
    "# Convert Postcode column to string\n",
    "suburbs_df.Postcode = suburbs_df.Postcode.astype(str)\n",
    "# Remoe '.0' from Postcode column\n",
    "suburbs_df.Postcode = suburbs_df.Postcode.str.extract('([0-9][0-9][0-9][0-9])',expand=False)\n",
    "\n",
    "suburbs_df.head()"
   ]
  },
  {
   "cell_type": "markdown",
   "metadata": {},
   "source": [
    "# User input"
   ]
  },
  {
   "cell_type": "code",
   "execution_count": 209,
   "metadata": {},
   "outputs": [
    {
     "name": "stdout",
     "output_type": "stream",
     "text": [
      "You have chosen the following suburbs:\n",
      "1. Point Cook, 3030\n",
      "2. Hoppers Crossing, 3029\n",
      "3. Werribee, 3030\n",
      "4. Seabrook, 3028\n",
      "5. Altona, 3018\n",
      "\n",
      "And would like to find similar suburbs in Sydney\n"
     ]
    }
   ],
   "source": [
    "user_input = [\n",
    "              {'Suburb':'South Yarra', 'Postcode':'3141', 'rating':5},\n",
    "              {'Suburb':'St Kilda', 'Postcode':'3182', 'rating':4},\n",
    "              {'Suburb':'Hawthorn', 'Postcode':'3122', 'rating':3},\n",
    "              {'Suburb':'Richmond', 'Postcode':'3121', 'rating':2},\n",
    "              {'Suburb':'Fitzroy', 'Postcode':'3065', 'rating':1}\n",
    "             ]\n",
    "\n",
    "user_input = [\n",
    "              {'Suburb':'Point Cook', 'Postcode':'3030', 'rating':1},\n",
    "              {'Suburb':'Hoppers Crossing', 'Postcode':'3029', 'rating':2},\n",
    "              {'Suburb':'Werribee', 'Postcode':'3030', 'rating':3},\n",
    "              {'Suburb':'Seabrook', 'Postcode':'3028', 'rating':4},\n",
    "              {'Suburb':'Altona', 'Postcode':'3018', 'rating':5}\n",
    "             ]\n",
    "\n",
    "output_city = 'Sydney'\n",
    "\n",
    "print('You have chosen the following suburbs:')\n",
    "for index, inputs in enumerate(user_input):\n",
    "    print('{}. {}, {}'.format(index+1, inputs['Suburb'], inputs['Postcode']))\n",
    "print('')\n",
    "print('And would like to find similar suburbs in {}'.format(output_city))"
   ]
  },
  {
   "cell_type": "markdown",
   "metadata": {},
   "source": [
    "Convert user inputs to dataframe"
   ]
  },
  {
   "cell_type": "code",
   "execution_count": 210,
   "metadata": {},
   "outputs": [
    {
     "data": {
      "text/html": [
       "<div>\n",
       "<style scoped>\n",
       "    .dataframe tbody tr th:only-of-type {\n",
       "        vertical-align: middle;\n",
       "    }\n",
       "\n",
       "    .dataframe tbody tr th {\n",
       "        vertical-align: top;\n",
       "    }\n",
       "\n",
       "    .dataframe thead th {\n",
       "        text-align: right;\n",
       "    }\n",
       "</style>\n",
       "<table border=\"1\" class=\"dataframe\">\n",
       "  <thead>\n",
       "    <tr style=\"text-align: right;\">\n",
       "      <th></th>\n",
       "      <th>Suburb</th>\n",
       "      <th>Postcode</th>\n",
       "      <th>rating</th>\n",
       "    </tr>\n",
       "  </thead>\n",
       "  <tbody>\n",
       "    <tr>\n",
       "      <th>0</th>\n",
       "      <td>Point Cook</td>\n",
       "      <td>3030</td>\n",
       "      <td>1</td>\n",
       "    </tr>\n",
       "    <tr>\n",
       "      <th>1</th>\n",
       "      <td>Hoppers Crossing</td>\n",
       "      <td>3029</td>\n",
       "      <td>2</td>\n",
       "    </tr>\n",
       "    <tr>\n",
       "      <th>2</th>\n",
       "      <td>Werribee</td>\n",
       "      <td>3030</td>\n",
       "      <td>3</td>\n",
       "    </tr>\n",
       "    <tr>\n",
       "      <th>3</th>\n",
       "      <td>Seabrook</td>\n",
       "      <td>3028</td>\n",
       "      <td>4</td>\n",
       "    </tr>\n",
       "    <tr>\n",
       "      <th>4</th>\n",
       "      <td>Altona</td>\n",
       "      <td>3018</td>\n",
       "      <td>5</td>\n",
       "    </tr>\n",
       "  </tbody>\n",
       "</table>\n",
       "</div>"
      ],
      "text/plain": [
       "             Suburb Postcode  rating\n",
       "0        Point Cook     3030       1\n",
       "1  Hoppers Crossing     3029       2\n",
       "2          Werribee     3030       3\n",
       "3          Seabrook     3028       4\n",
       "4            Altona     3018       5"
      ]
     },
     "execution_count": 210,
     "metadata": {},
     "output_type": "execute_result"
    }
   ],
   "source": [
    "# Convert to dataframe\n",
    "input_suburbs = pd.DataFrame(user_input)\n",
    "# rearrange columns\n",
    "input_suburbs = input_suburbs[['Suburb', 'Postcode', 'rating']]\n",
    "input_suburbs"
   ]
  },
  {
   "cell_type": "markdown",
   "metadata": {},
   "source": [
    "# Suburb content-based recommendation for area, distance, density"
   ]
  },
  {
   "cell_type": "markdown",
   "metadata": {},
   "source": [
    "Create suburbs matrix"
   ]
  },
  {
   "cell_type": "code",
   "execution_count": 211,
   "metadata": {},
   "outputs": [],
   "source": [
    "# Drop suburb and postcode column for analysis\n",
    "suburbs_info = suburbs_df[['area', 'density', 'distance']]"
   ]
  },
  {
   "cell_type": "markdown",
   "metadata": {},
   "source": [
    "Standardise matrix"
   ]
  },
  {
   "cell_type": "code",
   "execution_count": 248,
   "metadata": {},
   "outputs": [],
   "source": [
    "# Create the Scaler object\n",
    "scaler = preprocessing.MinMaxScaler()\n",
    "\n",
    "# Fit your data on the scaler object\n",
    "suburbs_info_scaled = scaler.fit_transform(suburbs_info)\n",
    "\n",
    "suburbs_info_scaled = pd.DataFrame(suburbs_info_scaled, columns=suburbs_info.columns)\n",
    "\n",
    "# Add suburb and postcode labels to rows\n",
    "suburbs_info_scaled.insert(0, 'Suburb_id', suburbs_df.Suburb_id)\n",
    "suburbs_info_scaled.insert(1, 'Suburb', suburbs_df.Suburb)\n",
    "suburbs_info_scaled.insert(2, 'Postcode', suburbs_df.Postcode)"
   ]
  },
  {
   "cell_type": "code",
   "execution_count": 249,
   "metadata": {},
   "outputs": [
    {
     "data": {
      "text/html": [
       "<div>\n",
       "<style scoped>\n",
       "    .dataframe tbody tr th:only-of-type {\n",
       "        vertical-align: middle;\n",
       "    }\n",
       "\n",
       "    .dataframe tbody tr th {\n",
       "        vertical-align: top;\n",
       "    }\n",
       "\n",
       "    .dataframe thead th {\n",
       "        text-align: right;\n",
       "    }\n",
       "</style>\n",
       "<table border=\"1\" class=\"dataframe\">\n",
       "  <thead>\n",
       "    <tr style=\"text-align: right;\">\n",
       "      <th></th>\n",
       "      <th>Suburb_id</th>\n",
       "      <th>Suburb</th>\n",
       "      <th>Postcode</th>\n",
       "      <th>area</th>\n",
       "      <th>density</th>\n",
       "      <th>distance</th>\n",
       "    </tr>\n",
       "  </thead>\n",
       "  <tbody>\n",
       "    <tr>\n",
       "      <th>0</th>\n",
       "      <td>0</td>\n",
       "      <td>Abbotsbury</td>\n",
       "      <td>2176</td>\n",
       "      <td>0.016476</td>\n",
       "      <td>0.041004</td>\n",
       "      <td>0.378833</td>\n",
       "    </tr>\n",
       "    <tr>\n",
       "      <th>1</th>\n",
       "      <td>1</td>\n",
       "      <td>Abbotsford</td>\n",
       "      <td>2046</td>\n",
       "      <td>0.003202</td>\n",
       "      <td>0.251873</td>\n",
       "      <td>0.085151</td>\n",
       "    </tr>\n",
       "    <tr>\n",
       "      <th>2</th>\n",
       "      <td>2</td>\n",
       "      <td>Acacia Gardens</td>\n",
       "      <td>2763</td>\n",
       "      <td>0.003074</td>\n",
       "      <td>0.184925</td>\n",
       "      <td>0.367376</td>\n",
       "    </tr>\n",
       "    <tr>\n",
       "      <th>3</th>\n",
       "      <td>3</td>\n",
       "      <td>Agnes Banks</td>\n",
       "      <td>2753</td>\n",
       "      <td>0.054129</td>\n",
       "      <td>0.002700</td>\n",
       "      <td>0.641967</td>\n",
       "    </tr>\n",
       "    <tr>\n",
       "      <th>4</th>\n",
       "      <td>4</td>\n",
       "      <td>Airds</td>\n",
       "      <td>2560</td>\n",
       "      <td>0.007901</td>\n",
       "      <td>0.057943</td>\n",
       "      <td>0.513260</td>\n",
       "    </tr>\n",
       "    <tr>\n",
       "      <th>5</th>\n",
       "      <td>5</td>\n",
       "      <td>Alexandria</td>\n",
       "      <td>2015</td>\n",
       "      <td>0.011642</td>\n",
       "      <td>0.112075</td>\n",
       "      <td>0.045652</td>\n",
       "    </tr>\n",
       "    <tr>\n",
       "      <th>6</th>\n",
       "      <td>6</td>\n",
       "      <td>Alfords Point</td>\n",
       "      <td>2234</td>\n",
       "      <td>0.010439</td>\n",
       "      <td>0.046928</td>\n",
       "      <td>0.250711</td>\n",
       "    </tr>\n",
       "    <tr>\n",
       "      <th>7</th>\n",
       "      <td>7</td>\n",
       "      <td>Allambie Heights</td>\n",
       "      <td>2100</td>\n",
       "      <td>0.021766</td>\n",
       "      <td>0.051327</td>\n",
       "      <td>0.145897</td>\n",
       "    </tr>\n",
       "    <tr>\n",
       "      <th>8</th>\n",
       "      <td>8</td>\n",
       "      <td>Allawah</td>\n",
       "      <td>2218</td>\n",
       "      <td>0.001777</td>\n",
       "      <td>0.456836</td>\n",
       "      <td>0.165178</td>\n",
       "    </tr>\n",
       "    <tr>\n",
       "      <th>9</th>\n",
       "      <td>9</td>\n",
       "      <td>Ambarvale</td>\n",
       "      <td>2560</td>\n",
       "      <td>0.009090</td>\n",
       "      <td>0.127401</td>\n",
       "      <td>0.529717</td>\n",
       "    </tr>\n",
       "  </tbody>\n",
       "</table>\n",
       "</div>"
      ],
      "text/plain": [
       "   Suburb_id            Suburb Postcode      area   density  distance\n",
       "0          0        Abbotsbury     2176  0.016476  0.041004  0.378833\n",
       "1          1        Abbotsford     2046  0.003202  0.251873  0.085151\n",
       "2          2    Acacia Gardens     2763  0.003074  0.184925  0.367376\n",
       "3          3       Agnes Banks     2753  0.054129  0.002700  0.641967\n",
       "4          4             Airds     2560  0.007901  0.057943  0.513260\n",
       "5          5        Alexandria     2015  0.011642  0.112075  0.045652\n",
       "6          6     Alfords Point     2234  0.010439  0.046928  0.250711\n",
       "7          7  Allambie Heights     2100  0.021766  0.051327  0.145897\n",
       "8          8           Allawah     2218  0.001777  0.456836  0.165178\n",
       "9          9         Ambarvale     2560  0.009090  0.127401  0.529717"
      ]
     },
     "execution_count": 249,
     "metadata": {},
     "output_type": "execute_result"
    }
   ],
   "source": [
    "suburbs_info_scaled.head(10)"
   ]
  },
  {
   "cell_type": "markdown",
   "metadata": {},
   "source": [
    "Since the distribution of the data are heavily skewed, I will transform the data to either log scale or sqrt scale to obtain a normal distribution."
   ]
  },
  {
   "cell_type": "code",
   "execution_count": 251,
   "metadata": {},
   "outputs": [
    {
     "name": "stderr",
     "output_type": "stream",
     "text": [
      "/Users/Jason/anaconda3/lib/python3.7/site-packages/ipykernel_launcher.py:1: RuntimeWarning: divide by zero encountered in log\n",
      "  \"\"\"Entry point for launching an IPython kernel.\n"
     ]
    },
    {
     "data": {
      "text/plain": [
       "-inf"
      ]
     },
     "execution_count": 251,
     "metadata": {},
     "output_type": "execute_result"
    }
   ],
   "source": [
    "np.log(0)"
   ]
  },
  {
   "cell_type": "code",
   "execution_count": null,
   "metadata": {},
   "outputs": [],
   "source": []
  },
  {
   "cell_type": "code",
   "execution_count": null,
   "metadata": {},
   "outputs": [],
   "source": []
  },
  {
   "cell_type": "code",
   "execution_count": null,
   "metadata": {},
   "outputs": [],
   "source": []
  },
  {
   "cell_type": "code",
   "execution_count": null,
   "metadata": {},
   "outputs": [],
   "source": []
  },
  {
   "cell_type": "code",
   "execution_count": null,
   "metadata": {},
   "outputs": [],
   "source": []
  },
  {
   "cell_type": "code",
   "execution_count": null,
   "metadata": {},
   "outputs": [],
   "source": []
  },
  {
   "cell_type": "code",
   "execution_count": null,
   "metadata": {},
   "outputs": [],
   "source": []
  },
  {
   "cell_type": "code",
   "execution_count": null,
   "metadata": {},
   "outputs": [],
   "source": []
  },
  {
   "cell_type": "markdown",
   "metadata": {},
   "source": [
    "# Suburb content-based recommendation for top local venues"
   ]
  },
  {
   "cell_type": "code",
   "execution_count": null,
   "metadata": {},
   "outputs": [],
   "source": []
  },
  {
   "cell_type": "code",
   "execution_count": null,
   "metadata": {},
   "outputs": [],
   "source": []
  },
  {
   "cell_type": "code",
   "execution_count": null,
   "metadata": {},
   "outputs": [],
   "source": []
  },
  {
   "cell_type": "code",
   "execution_count": null,
   "metadata": {},
   "outputs": [],
   "source": []
  },
  {
   "cell_type": "code",
   "execution_count": null,
   "metadata": {},
   "outputs": [],
   "source": []
  },
  {
   "cell_type": "markdown",
   "metadata": {},
   "source": [
    "# Recommended suburbs for location, distance, area, and top local venues"
   ]
  },
  {
   "cell_type": "code",
   "execution_count": null,
   "metadata": {},
   "outputs": [],
   "source": []
  }
 ],
 "metadata": {
  "kernelspec": {
   "display_name": "Python 3",
   "language": "python",
   "name": "python3"
  },
  "language_info": {
   "codemirror_mode": {
    "name": "ipython",
    "version": 3
   },
   "file_extension": ".py",
   "mimetype": "text/x-python",
   "name": "python",
   "nbconvert_exporter": "python",
   "pygments_lexer": "ipython3",
   "version": "3.7.3"
  }
 },
 "nbformat": 4,
 "nbformat_minor": 2
}
